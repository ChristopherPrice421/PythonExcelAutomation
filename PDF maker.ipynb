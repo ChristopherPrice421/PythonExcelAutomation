{
 "cells": [
  {
   "cell_type": "code",
   "execution_count": 1,
   "metadata": {},
   "outputs": [],
   "source": [
    "import os\n",
    "from PyPDF2 import PdfMerger\n",
    "from win32com import client\n",
    "from pywintypes import com_error"
   ]
  },
  {
   "cell_type": "code",
   "execution_count": 2,
   "metadata": {},
   "outputs": [],
   "source": [
    "week = '15'\n",
    "season = 'SS23'\n",
    "year = '2023'\n",
    "summary_sheets = ['Customer Success Report (p)','Fails by Stream (Item) - STD(p)','Fails by Stream (Item) -Week(p)','Overall Graphs (p)','Site targets (p)'] \n",
    "summary_paths = []\n",
    "#Create summary PDF\n",
    "for sheet in  summary_sheets:\n",
    "    #get graphs page pdf \n",
    "    excel = client.Dispatch(\"Excel.Application\")\n",
    "    \n",
    "    # Read Excel File\n",
    "    sheets = excel.Workbooks.Open(f'C:\\\\Users\\\\CFPRICE\\\\Desktop\\\\OTIFS\\\\Customer Service\\\\Week {week}\\\\Next Logistics - Customer Service Report - Week {week} - {season}.xlsx')\n",
    "    work_sheets_week = sheets.Worksheets[sheet]\n",
    "    \n",
    "    # Convert into PDF File\n",
    "    work_sheets_week.ExportAsFixedFormat(0, f'C:\\\\Users\\\\CFPRICE\\\\Desktop\\\\OTIFS\\\\Customer Service\\\\Week {week}\\\\Next Logistics - Customer Service Report - Week {week} - Summary{sheet}')\n",
    "    summary_paths.append(f'C:\\\\Users\\\\CFPRICE\\\\Desktop\\\\OTIFS\\\\Customer Service\\\\Week {week}\\\\Next Logistics - Customer Service Report - Week {week} - Summary{sheet}.pdf')\n",
    "\n",
    "    sheets.Close(SaveChanges=0)\n",
    "    excel.Quit()\n",
    "# Create a PdfFileMerger object\n",
    "merger = PdfMerger()\n",
    "\n",
    "# Loop through each PDF in the list of pdf_paths\n",
    "for pdf_path in summary_paths:\n",
    "    # Open the PDF\n",
    "    with open(pdf_path, \"rb\") as pdf_file:\n",
    "        # Add the PDF to the PdfFileMerger object\n",
    "        merger.append(pdf_file)\n",
    "\n",
    "# Save the combined PDF\n",
    "with open(f'C:\\\\Users\\\\CFPRICE\\\\Desktop\\\\OTIFS\\\\Customer Service\\\\Week {week}\\\\Next Logistics - Customer Service Report - Week {week} - Summary.pdf', \"wb\") as output_pdf:\n",
    "    merger.write(output_pdf)\n",
    "\n",
    "# Delete the individual PDFs\n",
    "for pdf_path in summary_paths:\n",
    "    os.remove(pdf_path)\n",
    "\n",
    "\n"
   ]
  },
  {
   "cell_type": "code",
   "execution_count": 3,
   "metadata": {},
   "outputs": [
    {
     "name": "stdout",
     "output_type": "stream",
     "text": [
      "Succeessful convertion\n",
      "Succeessful convertion GAP\n",
      "Succeessful convertion\n",
      "Succeessful convertion Non-Stock Branded\n",
      "Succeessful convertion\n",
      "Succeessful convertion Elmsall\n",
      "Succeessful convertion\n",
      "Succeessful convertion VS - PSS\n",
      "Succeessful convertion\n",
      "Succeessful convertion Belfast\n",
      "Succeessful convertion\n",
      "Succeessful convertion Stores\n",
      "Succeessful convertion\n",
      "Succeessful convertion Childsplay\n",
      "Succeessful convertion\n",
      "Succeessful convertion Redhouse\n",
      "Succeessful convertion\n",
      "Succeessful convertion Reiss\n",
      "Succeessful convertion\n",
      "Succeessful convertion Stadium\n",
      "Succeessful convertion\n",
      "Succeessful convertion DVP\n",
      "Succeessful convertion\n",
      "Succeessful convertion Doncaster\n",
      "Succeessful convertion\n",
      "Succeessful convertion RSC\n",
      "Succeessful convertion\n",
      "Succeessful convertion Reiss - PSS\n",
      "Succeessful convertion\n",
      "Succeessful convertion Elmsall Complex - Inc. TP\n",
      "Succeessful convertion\n",
      "Succeessful convertion Stadium Complex - Inc. TP\n",
      "Succeessful convertion\n",
      "Succeessful convertion PSS Combined Inc. TP\n",
      "Succeessful convertion\n",
      "Succeessful convertion Reiss - Inc. PSS\n",
      "Succeessful convertion\n",
      "Succeessful convertion Victorias Secret - Inc. PSS\n",
      "Succeessful convertion\n",
      "Succeessful convertion Jojo\n",
      "Succeessful convertion\n",
      "Succeessful convertion TP\n",
      "Succeessful convertion\n",
      "Succeessful convertion Next\n"
     ]
    }
   ],
   "source": [
    "sites = ['GAP',\n",
    "'Non-Stock Branded',\n",
    "'Elmsall',\n",
    "'VS - PSS',\n",
    "'Belfast',\n",
    "'Stores',\n",
    "'Childsplay',\n",
    "'Redhouse',\n",
    "'Reiss',\n",
    "'Stadium',\n",
    "'DVP',\n",
    "'Doncaster',\n",
    "'RSC',\n",
    "'Reiss - PSS',\n",
    "'Elmsall Complex - Inc. TP',\n",
    "'Stadium Complex - Inc. TP',\n",
    "'PSS Combined Inc. TP',\n",
    "'Reiss - Inc. PSS',\n",
    "'Victorias Secret - Inc. PSS',\n",
    "'Jojo',\n",
    "'TP',\n",
    "'Next'\n",
    "\n",
    "]\n",
    "summary_sheets = ['Summary - Week (p)','Summary - STD (p)','Overall (Site) (p)','Evri Graphs (Site)','DPD Graphs (Site)','NDTS Graphs (Site)','Store Graphs (Site)'] \n",
    "for site in sites:\n",
    "    try:\n",
    "        #Create summary PDF\n",
    "        excel = client.Dispatch(\"Excel.Application\")\n",
    "        # Read Excel File\n",
    "        sheets = excel.Workbooks.Open(f'C:\\\\Users\\\\CFPRICE\\\\Desktop\\\\OTIFS\\\\Customer Service\\\\Week {week}\\\\Next Logistics - Customer Service Report - Week {week} - {season}.xlsx')\n",
    "        work_sheets_week = sheets.Worksheets(summary_sheets[0]).Cells(2, 2).Value = site\n",
    "        \n",
    "\n",
    "    except com_error as e:\n",
    "        print('The convertion failed.')\n",
    "    else:\n",
    "        print('Succeessful convertion')\n",
    "    finally:\n",
    "        sheets.Close(SaveChanges=1)\n",
    "        excel.Quit()\n",
    "\n",
    "    try:\n",
    "        #get graphs page pdf \n",
    "        excel = client.Dispatch(\"Excel.Application\")\n",
    "        \n",
    "        # Read Excel File\n",
    "        sheets = excel.Workbooks.Open(f'C:\\\\Users\\\\CFPRICE\\\\Desktop\\\\OTIFS\\\\Customer Service\\\\Week {week}\\\\Next Logistics - Customer Service Report - Week {week} - {season}.xlsx')\n",
    "        sheets.Worksheets(summary_sheets).Select()\n",
    "        \n",
    "        # Convert into PDF File\n",
    "        excel.ActiveSheet.ExportAsFixedFormat(0, f'C:\\\\Users\\\\CFPRICE\\\\Desktop\\\\OTIFS\\\\Customer Service\\\\Week {week}\\\\Next Logistics - Customer Service Report - Week {week} - {site}')\n",
    "\n",
    "    except com_error as e:\n",
    "        print(e)\n",
    "        print(f'The convertion {site} failed.')\n",
    "    else:\n",
    "        print(f'Succeessful convertion {site}')\n",
    "    finally:\n",
    "        sheets.Close(SaveChanges=0)\n",
    "        excel.Quit()\n",
    "       "
   ]
  },
  {
   "cell_type": "code",
   "execution_count": 4,
   "metadata": {},
   "outputs": [],
   "source": [
    "\n",
    "excel.Quit()"
   ]
  },
  {
   "cell_type": "code",
   "execution_count": 5,
   "metadata": {},
   "outputs": [
    {
     "data": {
      "text/plain": [
       "'Type mismatch.\\r\\n'"
      ]
     },
     "execution_count": 5,
     "metadata": {},
     "output_type": "execute_result"
    }
   ],
   "source": [
    "import win32api\n",
    "win32api.FormatMessage(-2147352571)"
   ]
  }
 ],
 "metadata": {
  "kernelspec": {
   "display_name": "base",
   "language": "python",
   "name": "python3"
  },
  "language_info": {
   "codemirror_mode": {
    "name": "ipython",
    "version": 3
   },
   "file_extension": ".py",
   "mimetype": "text/x-python",
   "name": "python",
   "nbconvert_exporter": "python",
   "pygments_lexer": "ipython3",
   "version": "3.9.13"
  },
  "orig_nbformat": 4,
  "vscode": {
   "interpreter": {
    "hash": "569bd2529b6683b00101e308bda273fe09b3a55560264c82d1432dea2cf2523c"
   }
  }
 },
 "nbformat": 4,
 "nbformat_minor": 2
}
