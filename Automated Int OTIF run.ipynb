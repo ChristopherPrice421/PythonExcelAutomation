{
 "cells": [
  {
   "cell_type": "code",
   "execution_count": 11,
   "metadata": {},
   "outputs": [],
   "source": [
    "from databricks import sql\n",
    "import os\n",
    "from openpyxl import load_workbook\n",
    "import pandas as pd\n",
    "from datetime import date, datetime, timedelta\n",
    "from win32com import client\n",
    "import xlwings as xw\n",
    "import shutil"
   ]
  },
  {
   "cell_type": "code",
   "execution_count": 2,
   "metadata": {},
   "outputs": [],
   "source": [
    "today = date.today()\n",
    "CurrentDate = today.strftime(\"%Y-%m-%d\")"
   ]
  },
  {
   "cell_type": "code",
   "execution_count": 3,
   "metadata": {},
   "outputs": [],
   "source": [
    "with open('APIKEYS.txt', 'r') as f: \n",
    "    # Read the contents of the file into a list \n",
    "    lines = f.readlines() \n",
    "    # Create an empty dictionary \n",
    "    APIKEYS = {} \n",
    "    # Loop through the list of lines \n",
    "    for line in lines: \n",
    "        # Split the line into key-value pairs \n",
    "        key, value = line.strip().split(',') \n",
    "        # Store the key-value pairs in the dictionary \n",
    "        APIKEYS[key] = value \n",
    "# The dictionary 'data' now contains the contents of the text file "
   ]
  },
  {
   "cell_type": "code",
   "execution_count": 4,
   "metadata": {},
   "outputs": [],
   "source": [
    "with open('INT OTIF.txt', 'r') as f: \n",
    "    # Read the contents of the file into a list \n",
    "    lines = f.readlines() \n",
    "    # Create an empty dictionary \n",
    "    LastUpdate = {} \n",
    "    # Loop through the list of lines \n",
    "    for line in lines: \n",
    "        # Split the line into key-value pairs \n",
    "        key, value = line.strip().split(',') \n",
    "        # Store the key-value pairs in the dictionary \n",
    "        LastUpdate[key] = value \n",
    "# The dictionary 'data' now contains the contents of the text file "
   ]
  },
  {
   "cell_type": "code",
   "execution_count": 5,
   "metadata": {},
   "outputs": [],
   "source": [
    "\n",
    "date_obj = datetime.strptime(LastUpdate['LastUpdatedDate'], '%Y-%m-%d')\n",
    "incremented_date = date_obj + timedelta(days=1)\n",
    "incremented_date_str = incremented_date.strftime('%Y-%m-%d')"
   ]
  },
  {
   "cell_type": "code",
   "execution_count": 7,
   "metadata": {},
   "outputs": [],
   "source": [
    "# Get Parcel data from DB and place in table called \"Parcel_result\"\n",
    "with sql.connect(server_hostname = APIKEYS['server_hostname'],\n",
    "                 http_path       = APIKEYS['http_path'],\n",
    "                 access_token    = APIKEYS['access_token']) as connection:\n",
    "\n",
    "  with connection.cursor() as cursor:\n",
    "    cursor.execute(f\"select * from WhseFin_SharedArea.Results_Int_OTIF_ParcelDetail where Date(FileDateTime) between '{incremented_date_str}' and '{CurrentDate}' order by Generation_Date desc\")\n",
    "    Parcel_result = cursor.fetchall()\n",
    "\n",
    "#Get OTIF results from DB and place in table called \"OTIF_result\"\n",
    "with sql.connect(server_hostname = APIKEYS['server_hostname'],\n",
    "                 http_path       = APIKEYS['http_path'],\n",
    "                 access_token    = APIKEYS['access_token']) as connection:\n",
    "\n",
    "  with connection.cursor() as cursor:\n",
    "    cursor.execute(f\"\"\"Select \n",
    "\n",
    "Generation_Date,\n",
    "Whse,\n",
    "MOD,\n",
    "Depot,\n",
    "Destination,\n",
    "Target_Despatch_Date,\n",
    "Target_Despatch_Time as Target_Despatch_Time,\n",
    "OTIF,\n",
    "Parcels,\n",
    "No_Record_Of_Despatch_Or_Pack_Items,\n",
    "Item_Cancelled,\n",
    "No_Stocked_Items,\n",
    "Item_Despatched_On_Time,\n",
    "Item_Despatched_Late,\n",
    "Total_Items,\n",
    "FinweekNo,\n",
    "case when OTIF = 'On Time in Full'\tthen 'Success'\n",
    "when OTIF = 'Parcel Despatched Late' then 'Fail'\n",
    "when OTIF = 'Parcel Incomplete No Stocked Item - Despatched Late' then 'Fail'\n",
    "when OTIF = 'Parcel Incomplete No Stocked Item - Despatched On Time'\tthen 'Success'\n",
    "when OTIF = 'CHECK'\tthen 'Fail'\n",
    "when OTIF = 'Full Parcel No Stock'\tthen 'Fail' end as Category\n",
    "\n",
    "\n",
    "\n",
    "\n",
    "from WhseFin_SharedArea.Results_Int_OTIF as o\n",
    "left join parcel_tracking.vw_d_date as d  on o.Target_Despatch_Date =d.date\n",
    "Where Date(FileDateTime) between '{incremented_date_str}' and '{CurrentDate}'\n",
    "\n",
    "\n",
    "order by Target_Despatch_Date desc\"\"\")\n",
    "    OTIF_result = cursor.fetchall()\n",
    "\n"
   ]
  },
  {
   "cell_type": "code",
   "execution_count": 16,
   "metadata": {},
   "outputs": [],
   "source": [
    "\n",
    "#convert tables to pandas, listing all columns\n",
    "Parcel_data = pd.DataFrame(Parcel_result, columns = ['Generation_Date',\t'Parcel_Barcode',\t'account_no',\t'order_date',\t'promise_date',\t'Whse',\t'MOD',\t'Batch',\t'NoRecord',\t'ItemCancelled',\t'NoStocked',\t'ItemDespatchedOnTime',\t'ItemDespatchedLate',\t'Total_Items',\t'depot',\t'Destination',\t'packing_station',\t'parcel_collate_status',\t'grand_collation_flag',\t'target_despatch_date',\t'target_despatch_time',\t'despatch_date',\t'despatch_time',\t'latest_status_description',\t'latest_status_date',\t'latest_status_time',\t'delivered_date',\t'delivered_time',\t'delivered_status',\t'delivered_status_code',\t'delivered_sub_status_code',\t'OTIF',\t'FileDateTime',\t'FileDateYear',\t'FileDateDay',\t'FileDateMonth'])\n",
    "OTIF_result = pd.DataFrame(OTIF_result, columns = ['Generation_Date',\t'Whse',\t'MOD',\t'Depot',\t'Destination',\t'Target_Despatch_Date',\t'Target_Despatch_Time',\t'OTIF',\t'Parcels',\t'No_Record_Of_Despatch_Or_Pack_Items',\t'Item_Cancelled',\t'No_Stocked_Items',\t'Item_Despatched_On_Time',\t'Item_Despatched_Late',\t'Total_Items','FinweekNo','Category'])"
   ]
  },
  {
   "cell_type": "code",
   "execution_count": 18,
   "metadata": {},
   "outputs": [
    {
     "name": "stdout",
     "output_type": "stream",
     "text": [
      "15\n"
     ]
    }
   ],
   "source": [
    "#get current week\n",
    "curr_week = OTIF_result.iloc[0][-2].astype('str')\n",
    "print(curr_week)\n",
    "#Get current season\n",
    "def season():\n",
    "    if OTIF_result.iloc[0][-2].astype('int32') < 27:\n",
    "        return 'SS' + Parcel_data.iloc[0][-3].astype('str')[2:4]\n",
    "    else:\n",
    "        return 'AW' + Parcel_data.iloc[0][-3].astype('str')[2:4]\n",
    "\n",
    "curr_season = season()"
   ]
  },
  {
   "cell_type": "code",
   "execution_count": null,
   "metadata": {},
   "outputs": [
    {
     "data": {
      "text/plain": [
       "'SS23'"
      ]
     },
     "execution_count": 28,
     "metadata": {},
     "output_type": "execute_result"
    }
   ],
   "source": [
    "curr_season"
   ]
  },
  {
   "cell_type": "code",
   "execution_count": null,
   "metadata": {},
   "outputs": [],
   "source": [
    "\n",
    "#any datetime columns need to be turned to date\n",
    "Parcel_data['FileDateTime'] = pd.to_datetime(Parcel_data['FileDateTime']).dt.date"
   ]
  },
  {
   "cell_type": "code",
   "execution_count": null,
   "metadata": {},
   "outputs": [],
   "source": [
    "#Get current date to save files with a dated name\n",
    "today2 = date.today()\n",
    "date2 = today.strftime(\"%d.%m.%Y\")"
   ]
  },
  {
   "cell_type": "code",
   "execution_count": null,
   "metadata": {},
   "outputs": [],
   "source": [
    "#create and save the parcel data files\n",
    "Parcel_data.to_excel('C:\\\\Users\\\\CFPRICE\\\\Desktop\\\\OTIFS\\\\INT\\\\{0} - Int.xlsx'.format(date2), sheet_name='Data',index = False)"
   ]
  },
  {
   "cell_type": "code",
   "execution_count": null,
   "metadata": {},
   "outputs": [],
   "source": [
    "\n",
    "#create app to make updating excel a background process\n",
    "app = xw.App(visible = False)\n",
    "\n",
    "#Select File and sheet to update\n",
    "wb = app.books.open(f\"C:\\\\Users\\\\CFPRICE\\\\Desktop\\\\OTIFS\\\\INT\\\\International OTIF - Week {LastUpdate['LastFileWeek']}.xlsx\")\n",
    "ws = wb.sheets[\"Summary Data\"]\n",
    "\n",
    "#find which row we need to place data\n",
    "last_row = ws.range(1,1).end('down').row\n",
    "Import_row = last_row + 1"
   ]
  },
  {
   "cell_type": "code",
   "execution_count": null,
   "metadata": {},
   "outputs": [],
   "source": [
    "#Place the results Data\n",
    "ws.range(\"A{0}\".format(Import_row)).options(index=False).value = OTIF_result"
   ]
  },
  {
   "cell_type": "code",
   "execution_count": null,
   "metadata": {},
   "outputs": [],
   "source": [
    "#save the file\n",
    "wb.save(f'C:\\\\Users\\\\CFPRICE\\\\Desktop\\\\OTIFS\\\\INT\\\\International OTIF - Week {curr_week}.xlsx')\n",
    "\n",
    "#stop the app\n",
    "app.kill()"
   ]
  },
  {
   "cell_type": "code",
   "execution_count": null,
   "metadata": {},
   "outputs": [],
   "source": [
    "#In or out of office \n",
    "def OfficeCheck():\n",
    "    if os.path.exists('T:\\\\Common\\\\Management Information') == False:\n",
    "        return 'Home'\n",
    "    elif os.path.exists('T:\\\\Common\\\\Management Information') == True:\n",
    "        return 'Office'"
   ]
  },
  {
   "cell_type": "code",
   "execution_count": null,
   "metadata": {},
   "outputs": [],
   "source": [
    "OfficeFile = 'T:\\\\Common\\\\Management Information\\\\On Time in Full\\\\International\\\\{season}\\\\Week {week}\\\\International OTIF - Week {week}.xlsx'\n",
    "DesktopLoc = 'C:\\\\Users\\\\CFPRICE\\\\Desktop\\\\OTIFS\\\\INT\\\\International OTIF - Week {week}.xlsx'\n",
    "OfficeLoc =  'T:\\\\Common\\\\Management Information\\\\On Time in Full\\\\International\\\\{season}\\\\Week {week}'"
   ]
  },
  {
   "cell_type": "code",
   "execution_count": null,
   "metadata": {},
   "outputs": [],
   "source": [
    "def Save(DesktopLoc,OfficeLoc,OfficeFile,LastUpdate):\n",
    "    #If at home, update as normal\n",
    "    if OfficeCheck() == 'Home':\n",
    "        return\n",
    "\n",
    "    #If in Office and the last update was also in the office, save the latest copy in MI\n",
    "    elif OfficeCheck() == 'Office' and LastUpdate['LastUpdatedDate'] == LastUpdate['LastUpdatedOfficeDate']:\n",
    "\n",
    "        #Create file path if not exists for recent update\n",
    "        if not os.path.exists(OfficeLoc.format(season = curr_season,week = curr_week)):\n",
    "            os.mkdir(OfficeLoc.format(season = curr_season,week = curr_week))\n",
    "            \n",
    "        #copy latest file to MI from desktop\n",
    "        shutil.copyfile(DesktopLoc.format(week = curr_week),OfficeFile.format(season = curr_season, week = curr_week))\n",
    "    \n",
    "    #If in office and last update was at home\n",
    "    elif OfficeCheck() == 'Office' and LastUpdate['LastUpdatedDate'] == LastUpdate['LastUpdatedHomeDate']:\n",
    "\n",
    "        #Still the same week so just need to check file path exists and save file\n",
    "        if LastUpdate['LastFileHomeWeek'] == LastUpdate['LastFileWeek']:\n",
    "            if not os.path.exists(OfficeLoc.format(season = curr_season,week = curr_week)):\n",
    "                os.mkdir(OfficeLoc.format(season = curr_season, week = curr_week))\n",
    "            shutil.copyfile(DesktopLoc.format(week = curr_week),OfficeFile.format(season = curr_season, week = curr_week))\n",
    "\n",
    "        #If we are not in the same week, we need to save last weeks file down and this weeks file into the correct paths\n",
    "        elif LastUpdate['LastFileWeek'] != LastUpdate['LastFileHomeWeek']:\n",
    "\n",
    "            #save last weeks file\n",
    "            if not os.path.exists(OfficeLoc.format(season = LastUpdate['LastUpdatedHomeSeason'], week = LastUpdate['LastFileHomeWeek'])):\n",
    "                os.mkdir(OfficeLoc.format(season = LastUpdate['LastUpdatedHomeSeason'], week = LastUpdate['LastFileHomeWeek']))\n",
    "            shutil.copyfile(DesktopLoc.format(week = LastUpdate['LastFileHomeWeek']),OfficeFile.format(season = LastUpdate['LastUpdatedHomeSeason'], week = LastUpdate['LastFileHomeWeek']))\n",
    "\n",
    "            #save this weeks file\n",
    "            if not os.path.exists(OfficeLoc.format(season = curr_season,week = curr_week)):\n",
    "                os.mkdir(OfficeLoc.format(season = curr_season, week = curr_week))\n",
    "            shutil.copyfile(DesktopLoc.format(week = curr_week),OfficeFile.format(season = curr_season, week = curr_week))\n",
    "\n",
    "            #remove last weeks file from desktop to save space\n",
    "            os.remove(DesktopLoc.format(week = LastUpdate['LastFileWeek']))\n",
    "Save(DesktopLoc,OfficeLoc,OfficeFile,LastUpdate)\n"
   ]
  },
  {
   "cell_type": "code",
   "execution_count": null,
   "metadata": {},
   "outputs": [],
   "source": [
    "# Read the contents of the file into memory\n",
    "with open('C:\\\\Users\\\\CFPRICE\\\\Desktop\\\\OTIFS\\\\INT\\\\INT OTIF.txt', 'r') as f:\n",
    "    lines = f.readlines()\n",
    "\n",
    "# Update the values in memory\n",
    "for i, line in enumerate(lines):\n",
    "    key, value = line.strip().split(',')\n",
    "\n",
    "    if key == 'LastFileWeek':\n",
    "        value = str(curr_week)\n",
    "\n",
    "    if key == 'LastUpdatedDate':\n",
    "        value = str(CurrentDate)# update the values\n",
    "\n",
    "    if key == 'LastUpdatedLoc':\n",
    "        value = OfficeCheck()\n",
    "\n",
    "    if key == 'LastUpdatedSeason':\n",
    "        value = curr_season\n",
    "\n",
    "    if key == f'LastUpdated{OfficeCheck()}Date':\n",
    "        value = str(CurrentDate)\n",
    "\n",
    "    if key == f'LastFile{OfficeCheck()}Week':\n",
    "        value = str(curr_week)\n",
    "\n",
    "    if key == f'LastUpdated{OfficeCheck()}Season':\n",
    "        value = curr_season\n",
    "        \n",
    "    lines[i] = key + ',' + value + '\\n'\n",
    "\n",
    "with open('C:\\\\Users\\\\CFPRICE\\\\Desktop\\\\OTIFS\\\\INT\\\\INT OTIF.txt', 'w') as f:\n",
    "    f.writelines(lines)"
   ]
  }
 ],
 "metadata": {
  "kernelspec": {
   "display_name": "base",
   "language": "python",
   "name": "python3"
  },
  "language_info": {
   "codemirror_mode": {
    "name": "ipython",
    "version": 3
   },
   "file_extension": ".py",
   "mimetype": "text/x-python",
   "name": "python",
   "nbconvert_exporter": "python",
   "pygments_lexer": "ipython3",
   "version": "3.9.13"
  },
  "orig_nbformat": 4,
  "vscode": {
   "interpreter": {
    "hash": "569bd2529b6683b00101e308bda273fe09b3a55560264c82d1432dea2cf2523c"
   }
  }
 },
 "nbformat": 4,
 "nbformat_minor": 2
}
